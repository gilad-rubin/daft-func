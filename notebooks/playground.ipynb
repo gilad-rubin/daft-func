{
 "cells": [
  {
   "cell_type": "code",
   "execution_count": 2,
   "id": "7e201764",
   "metadata": {},
   "outputs": [],
   "source": [
    "from pydantic import BaseModel\n",
    "\n",
    "from daft_func import Runner, daft_func\n",
    "\n",
    "\n",
    "# 1. Define your data models\n",
    "class Query(BaseModel):\n",
    "    id: str\n",
    "    text: str\n",
    "\n",
    "\n",
    "class Result(BaseModel):\n",
    "    id: str\n",
    "    score: float\n",
    "\n",
    "\n",
    "# 2. Define your DAG nodes\n",
    "@daft_func(output=\"results\", map_axis=\"query\", key_attr=\"id\")\n",
    "def process(query: Query, threshold: float) -> Result:\n",
    "    score = len(query.text) * threshold\n",
    "    return Result(id=query.id, score=score)\n",
    "\n",
    "\n",
    "# 3. Run your pipeline\n",
    "runner = Runner(mode=\"auto\")"
   ]
  },
  {
   "cell_type": "code",
   "execution_count": 4,
   "id": "aae997cf",
   "metadata": {},
   "outputs": [
    {
     "name": "stdout",
     "output_type": "stream",
     "text": [
      "[Result(id='q1', score=2.5)]\n"
     ]
    }
   ],
   "source": [
    "outputs = runner.run(\n",
    "    inputs={\n",
    "        \"query\": [Query(id=\"q1\", text=\"hello\")],\n",
    "        \"threshold\": 0.5,\n",
    "    }\n",
    ")\n",
    "\n",
    "print(outputs[\"results\"])\n",
    "# [Result(id='q1', score=2.5), Result(id='q2', score=2.5)]"
   ]
  },
  {
   "cell_type": "code",
   "execution_count": null,
   "id": "5ad04a8c",
   "metadata": {},
   "outputs": [],
   "source": [
    "outputs = runner.run(\n",
    "    inputs={\n",
    "        \"query\": [\n",
    "            Query(id=\"q1\", text=\"hello\"),\n",
    "            Query(id=\"q2\", text=\"world\"),\n",
    "        ],\n",
    "        \"threshold\": 0.5,\n",
    "    }\n",
    ")\n",
    "\n",
    "print(outputs[\"results\"])\n",
    "# [Result(id='q1', score=2.5), Result(id='q2', score=2.5)]"
   ]
  }
 ],
 "metadata": {
  "kernelspec": {
   "display_name": "daft_func",
   "language": "python",
   "name": "python3"
  },
  "language_info": {
   "codemirror_mode": {
    "name": "ipython",
    "version": 3
   },
   "file_extension": ".py",
   "mimetype": "text/x-python",
   "name": "python",
   "nbconvert_exporter": "python",
   "pygments_lexer": "ipython3",
   "version": "3.12.9"
  }
 },
 "nbformat": 4,
 "nbformat_minor": 5
}
